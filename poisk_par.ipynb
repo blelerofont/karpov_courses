{
 "cells": [
  {
   "cell_type": "markdown",
   "metadata": {},
   "source": [
    "Дана база покупок продуктового магазина:\n",
    "\n",
    "    id – означает покупку (в одну покупку входят все товары, купленные пользователем во время 1 похода в магазин)\n",
    "    Товар – наименование товара\n",
    "    Количество – число единиц купленного товара\n",
    "\n",
    "Задача: выяснить, какие пары товаров пользователи чаще всего покупают вместе. По сути, необходимо найти паттерны покупок, что позволит оптимизировать размещение продуктов в магазине, для удобства пользователей и увеличения выручки."
   ]
  },
  {
   "cell_type": "code",
   "execution_count": 1,
   "metadata": {},
   "outputs": [],
   "source": [
    "import pandas as pd"
   ]
  },
  {
   "cell_type": "code",
   "execution_count": 2,
   "metadata": {},
   "outputs": [
    {
     "data": {
      "text/plain": [
       "(43514, 3)"
      ]
     },
     "execution_count": 2,
     "metadata": {},
     "output_type": "execute_result"
    }
   ],
   "source": [
    "df = pd.read_csv('https://stepik.org/media/attachments/lesson/409319/test1_completed.csv')\n",
    "df.shape"
   ]
  },
  {
   "cell_type": "code",
   "execution_count": 3,
   "metadata": {},
   "outputs": [
    {
     "data": {
      "text/plain": [
       "(43514, 3)"
      ]
     },
     "execution_count": 3,
     "metadata": {},
     "output_type": "execute_result"
    }
   ],
   "source": [
    "# избавимся от пустых значений \n",
    "\n",
    "df = df.dropna()\n",
    "df.shape\n",
    "\n",
    "# таких правда не оказалось, размер датафрейма не изменился"
   ]
  },
  {
   "cell_type": "code",
   "execution_count": 4,
   "metadata": {},
   "outputs": [
    {
     "data": {
      "text/html": [
       "<div>\n",
       "<style scoped>\n",
       "    .dataframe tbody tr th:only-of-type {\n",
       "        vertical-align: middle;\n",
       "    }\n",
       "\n",
       "    .dataframe tbody tr th {\n",
       "        vertical-align: top;\n",
       "    }\n",
       "\n",
       "    .dataframe thead th {\n",
       "        text-align: right;\n",
       "    }\n",
       "</style>\n",
       "<table border=\"1\" class=\"dataframe\">\n",
       "  <thead>\n",
       "    <tr style=\"text-align: right;\">\n",
       "      <th></th>\n",
       "      <th>Товар</th>\n",
       "    </tr>\n",
       "    <tr>\n",
       "      <th>id</th>\n",
       "      <th></th>\n",
       "    </tr>\n",
       "  </thead>\n",
       "  <tbody>\n",
       "  </tbody>\n",
       "</table>\n",
       "</div>"
      ],
      "text/plain": [
       "Empty DataFrame\n",
       "Columns: [Товар]\n",
       "Index: []"
      ]
     },
     "execution_count": 4,
     "metadata": {},
     "output_type": "execute_result"
    }
   ],
   "source": [
    "# проверим, есть ли случаи, когда в одной покупке два раза присутствует одна и та же позиция\n",
    "# сравним количество уникальных позиций в каждой покупке с общим количеством позиций в каждой покупке\n",
    "\n",
    "poisk_duplikatov = df.groupby('id').agg({'Товар': pd.Series.nunique}) == df.groupby('id').agg({'Товар': 'count'}) \n",
    "poisk_duplikatov.loc[poisk_duplikatov['Товар'] == False]\n",
    "\n",
    "# таких покупок нет"
   ]
  },
  {
   "cell_type": "code",
   "execution_count": 5,
   "metadata": {},
   "outputs": [
    {
     "data": {
      "text/html": [
       "<div>\n",
       "<style scoped>\n",
       "    .dataframe tbody tr th:only-of-type {\n",
       "        vertical-align: middle;\n",
       "    }\n",
       "\n",
       "    .dataframe tbody tr th {\n",
       "        vertical-align: top;\n",
       "    }\n",
       "\n",
       "    .dataframe thead th {\n",
       "        text-align: right;\n",
       "    }\n",
       "</style>\n",
       "<table border=\"1\" class=\"dataframe\">\n",
       "  <thead>\n",
       "    <tr style=\"text-align: right;\">\n",
       "      <th></th>\n",
       "      <th>id</th>\n",
       "      <th>Товар</th>\n",
       "      <th>Количество</th>\n",
       "    </tr>\n",
       "  </thead>\n",
       "  <tbody>\n",
       "  </tbody>\n",
       "</table>\n",
       "</div>"
      ],
      "text/plain": [
       "Empty DataFrame\n",
       "Columns: [id, Товар, Количество]\n",
       "Index: []"
      ]
     },
     "execution_count": 5,
     "metadata": {},
     "output_type": "execute_result"
    }
   ],
   "source": [
    "# посмотрим, есть ли отрицательные или нулевые покупки по количеству\n",
    "\n",
    "df.loc[df['Количество'] <= 0]\n",
    "\n",
    "# таких покупок нет"
   ]
  },
  {
   "cell_type": "code",
   "execution_count": 6,
   "metadata": {},
   "outputs": [],
   "source": [
    "# теперь перейдем к подсчету пар\n",
    "# отсортируем товары по номерам покупок и товарам в алфавитном порядке\n",
    "\n",
    "df = df.sort_values(['id', 'Товар'])\n",
    "\n",
    "# далее сформируем датафрейм \"покупка - перечень товаров в ней в алфавитном порядке\" \n",
    "\n",
    "po_zakazam = df.groupby('id')\\\n",
    "                      .agg({'Товар': lambda x:list(x)})"
   ]
  },
  {
   "cell_type": "code",
   "execution_count": 7,
   "metadata": {},
   "outputs": [],
   "source": [
    "# пробежимся по каждой покупке циклом и запишем все возможные пары\n",
    "\n",
    "pairs = []\n",
    "for i in po_zakazam['Товар']:\n",
    "        for j in range(len(i)):\n",
    "            for k in range(j+1,len(i)):\n",
    "                pairs.append([i[j],i[k]])\n",
    "                \n",
    "# сформируем датафрейм из наших пар  и присвоим каждой встречаемость 1\n",
    "                \n",
    "pairs_df = pd.DataFrame(pairs)\n",
    "pairs_df['Встречаемость'] = 1\n",
    "pairs_df.rename(columns={0:'1_Товар',1:'2_Товар'},inplace=True)"
   ]
  },
  {
   "cell_type": "code",
   "execution_count": 8,
   "metadata": {},
   "outputs": [],
   "source": [
    "# сделаем агрегацию по парам и отсортируем\n",
    "\n",
    "occurrence_pairs = pairs_df.groupby(['1_Товар','2_Товар']).agg({'Встречаемость':'sum'})\n",
    "\n",
    "occurrence_pairs = occurrence_pairs.sort_values('Встречаемость',ascending=False)"
   ]
  },
  {
   "cell_type": "code",
   "execution_count": 9,
   "metadata": {
    "scrolled": true
   },
   "outputs": [
    {
     "data": {
      "text/html": [
       "<div>\n",
       "<style scoped>\n",
       "    .dataframe tbody tr th:only-of-type {\n",
       "        vertical-align: middle;\n",
       "    }\n",
       "\n",
       "    .dataframe tbody tr th {\n",
       "        vertical-align: top;\n",
       "    }\n",
       "\n",
       "    .dataframe thead th {\n",
       "        text-align: right;\n",
       "    }\n",
       "</style>\n",
       "<table border=\"1\" class=\"dataframe\">\n",
       "  <thead>\n",
       "    <tr style=\"text-align: right;\">\n",
       "      <th></th>\n",
       "      <th></th>\n",
       "      <th>Встречаемость</th>\n",
       "    </tr>\n",
       "    <tr>\n",
       "      <th>1_Товар</th>\n",
       "      <th>2_Товар</th>\n",
       "      <th></th>\n",
       "    </tr>\n",
       "  </thead>\n",
       "  <tbody>\n",
       "    <tr>\n",
       "      <th>Огурцы Луховицкие</th>\n",
       "      <th>Укроп</th>\n",
       "      <td>431</td>\n",
       "    </tr>\n",
       "    <tr>\n",
       "      <th>Петрушка</th>\n",
       "      <th>Укроп</th>\n",
       "      <td>408</td>\n",
       "    </tr>\n",
       "    <tr>\n",
       "      <th>Арбуз</th>\n",
       "      <th>Огурцы Луховицкие</th>\n",
       "      <td>345</td>\n",
       "    </tr>\n",
       "    <tr>\n",
       "      <th>Кабачки</th>\n",
       "      <th>Огурцы Луховицкие</th>\n",
       "      <td>326</td>\n",
       "    </tr>\n",
       "    <tr>\n",
       "      <th>Кинза</th>\n",
       "      <th>Укроп</th>\n",
       "      <td>303</td>\n",
       "    </tr>\n",
       "    <tr>\n",
       "      <th>Лук зеленый</th>\n",
       "      <th>Укроп</th>\n",
       "      <td>300</td>\n",
       "    </tr>\n",
       "    <tr>\n",
       "      <th>Огурцы Луховицкие</th>\n",
       "      <th>Петрушка</th>\n",
       "      <td>286</td>\n",
       "    </tr>\n",
       "    <tr>\n",
       "      <th>Лук репчатый</th>\n",
       "      <th>Огурцы Луховицкие</th>\n",
       "      <td>285</td>\n",
       "    </tr>\n",
       "    <tr>\n",
       "      <th>Баклажаны грунтовые</th>\n",
       "      <th>Кабачки</th>\n",
       "      <td>284</td>\n",
       "    </tr>\n",
       "    <tr>\n",
       "      <th>Кабачки</th>\n",
       "      <th>Укроп</th>\n",
       "      <td>281</td>\n",
       "    </tr>\n",
       "  </tbody>\n",
       "</table>\n",
       "</div>"
      ],
      "text/plain": [
       "                                       Встречаемость\n",
       "1_Товар             2_Товар                         \n",
       "Огурцы Луховицкие   Укроп                        431\n",
       "Петрушка            Укроп                        408\n",
       "Арбуз               Огурцы Луховицкие            345\n",
       "Кабачки             Огурцы Луховицкие            326\n",
       "Кинза               Укроп                        303\n",
       "Лук зеленый         Укроп                        300\n",
       "Огурцы Луховицкие   Петрушка                     286\n",
       "Лук репчатый        Огурцы Луховицкие            285\n",
       "Баклажаны грунтовые Кабачки                      284\n",
       "Кабачки             Укроп                        281"
      ]
     },
     "execution_count": 9,
     "metadata": {},
     "output_type": "execute_result"
    }
   ],
   "source": [
    "#  смотрим 10 наиболее распространенных паттернов\n",
    "\n",
    "occurrence_pairs.head(10)"
   ]
  },
  {
   "cell_type": "markdown",
   "metadata": {},
   "source": [
    "---\n",
    "Будет интересно еще посмотреть, какая доля покупок определенного товара попадает на конкретную пару.\n",
    "Вычислим товары, для которых такие пары наиболее встречаются"
   ]
  },
  {
   "cell_type": "code",
   "execution_count": 10,
   "metadata": {},
   "outputs": [],
   "source": [
    "# для дальнейших расчетов посчитаем количество покупок каждого товара \n",
    "pokupki_po_tovaram = df['Товар'].value_counts()"
   ]
  },
  {
   "cell_type": "code",
   "execution_count": 11,
   "metadata": {},
   "outputs": [],
   "source": [
    "# теперь посчитаем процент каждого товара, приходящийся на наличие конкретной пары, \n",
    "# от общего числа покупок данного товара\n",
    "\n",
    "occurrence_pairs = occurrence_pairs.reset_index()\n",
    "\n",
    "occurrence_pairs['Процент_1_товар'] = (\n",
    "                                      (occurrence_pairs['Встречаемость'] /\n",
    "                                      occurrence_pairs['1_Товар'].apply(lambda x: pokupki_po_tovaram[x]))\n",
    "                                      .apply(lambda x: int(x * 100))\n",
    "                                      )\n",
    "\n",
    "occurrence_pairs['Процент_2_товар'] = (\n",
    "                                      (occurrence_pairs['Встречаемость'] /\n",
    "                                      occurrence_pairs['2_Товар'].apply(lambda x: pokupki_po_tovaram[x]))\n",
    "                                      .apply(lambda x: int(x * 100))\n",
    "                                      )"
   ]
  },
  {
   "cell_type": "code",
   "execution_count": 12,
   "metadata": {},
   "outputs": [],
   "source": [
    "# для большей читабельности  преобразуем наш массив\n",
    "\n",
    "# сделаем 2 массива - каждый только с одним главным товаром(крупными буквами), указанием пары(мелкими буквами) \n",
    "# и долей для этой пары от общего числа покупок главного товара\n",
    "\n",
    "occurrence_pairs_1 = occurrence_pairs\n",
    "occurrence_pairs_2 = occurrence_pairs\n",
    "\n",
    "occurrence_pairs_1['Пара'] = (\n",
    "                              occurrence_pairs_1['1_Товар'].str.upper() + '>>>' +  \n",
    "                               occurrence_pairs_1['2_Товар'].str.lower()\n",
    "                              )\n",
    "occurrence_pairs_1 = occurrence_pairs_1.rename(columns={'Процент_1_товар':'Процент товара в паре от общего количества'})\n",
    "occurrence_pairs_1 = occurrence_pairs_1.drop(columns=['1_Товар','2_Товар','Встречаемость','Процент_2_товар'])\n",
    "occurrence_pairs_1 = occurrence_pairs_1[['Пара','Процент товара в паре от общего количества']]\n",
    "\n",
    "occurrence_pairs_2['Пара'] = (\n",
    "                              occurrence_pairs_2['2_Товар'].str.upper() + '>>>' +  \n",
    "                               occurrence_pairs_2['1_Товар'].str.lower()\n",
    "                              )\n",
    "occurrence_pairs_2 = occurrence_pairs_2.rename(columns={'Процент_2_товар':'Процент товара в паре от общего количества'})\n",
    "occurrence_pairs_2 = occurrence_pairs_2.drop(columns=['1_Товар','2_Товар','Встречаемость','Процент_1_товар'])\n",
    "occurrence_pairs_2 = occurrence_pairs_2[['Пара','Процент товара в паре от общего количества']]"
   ]
  },
  {
   "cell_type": "code",
   "execution_count": 13,
   "metadata": {},
   "outputs": [
    {
     "data": {
      "text/html": [
       "<div>\n",
       "<style scoped>\n",
       "    .dataframe tbody tr th:only-of-type {\n",
       "        vertical-align: middle;\n",
       "    }\n",
       "\n",
       "    .dataframe tbody tr th {\n",
       "        vertical-align: top;\n",
       "    }\n",
       "\n",
       "    .dataframe thead th {\n",
       "        text-align: right;\n",
       "    }\n",
       "</style>\n",
       "<table border=\"1\" class=\"dataframe\">\n",
       "  <thead>\n",
       "    <tr style=\"text-align: right;\">\n",
       "      <th></th>\n",
       "      <th>Пара</th>\n",
       "      <th>Процент товара в паре от общего количества</th>\n",
       "    </tr>\n",
       "  </thead>\n",
       "  <tbody>\n",
       "    <tr>\n",
       "      <th>0</th>\n",
       "      <td>ОГУРЦЫ ЛУХОВИЦКИЕ&gt;&gt;&gt;укроп</td>\n",
       "      <td>42</td>\n",
       "    </tr>\n",
       "    <tr>\n",
       "      <th>1</th>\n",
       "      <td>ПЕТРУШКА&gt;&gt;&gt;укроп</td>\n",
       "      <td>73</td>\n",
       "    </tr>\n",
       "    <tr>\n",
       "      <th>2</th>\n",
       "      <td>АРБУЗ&gt;&gt;&gt;огурцы луховицкие</td>\n",
       "      <td>35</td>\n",
       "    </tr>\n",
       "    <tr>\n",
       "      <th>3</th>\n",
       "      <td>КАБАЧКИ&gt;&gt;&gt;огурцы луховицкие</td>\n",
       "      <td>49</td>\n",
       "    </tr>\n",
       "    <tr>\n",
       "      <th>4</th>\n",
       "      <td>КИНЗА&gt;&gt;&gt;укроп</td>\n",
       "      <td>62</td>\n",
       "    </tr>\n",
       "  </tbody>\n",
       "</table>\n",
       "</div>"
      ],
      "text/plain": [
       "                          Пара  Процент товара в паре от общего количества\n",
       "0    ОГУРЦЫ ЛУХОВИЦКИЕ>>>укроп                                          42\n",
       "1             ПЕТРУШКА>>>укроп                                          73\n",
       "2    АРБУЗ>>>огурцы луховицкие                                          35\n",
       "3  КАБАЧКИ>>>огурцы луховицкие                                          49\n",
       "4                КИНЗА>>>укроп                                          62"
      ]
     },
     "execution_count": 13,
     "metadata": {},
     "output_type": "execute_result"
    }
   ],
   "source": [
    "# получилось 2 массива со всеми возможными парами\n",
    "occurrence_pairs_1.head()"
   ]
  },
  {
   "cell_type": "code",
   "execution_count": 14,
   "metadata": {},
   "outputs": [
    {
     "data": {
      "text/html": [
       "<div>\n",
       "<style scoped>\n",
       "    .dataframe tbody tr th:only-of-type {\n",
       "        vertical-align: middle;\n",
       "    }\n",
       "\n",
       "    .dataframe tbody tr th {\n",
       "        vertical-align: top;\n",
       "    }\n",
       "\n",
       "    .dataframe thead th {\n",
       "        text-align: right;\n",
       "    }\n",
       "</style>\n",
       "<table border=\"1\" class=\"dataframe\">\n",
       "  <thead>\n",
       "    <tr style=\"text-align: right;\">\n",
       "      <th></th>\n",
       "      <th>Пара</th>\n",
       "      <th>Процент товара в паре от общего количества</th>\n",
       "    </tr>\n",
       "  </thead>\n",
       "  <tbody>\n",
       "    <tr>\n",
       "      <th>0</th>\n",
       "      <td>УКРОП&gt;&gt;&gt;огурцы луховицкие</td>\n",
       "      <td>52</td>\n",
       "    </tr>\n",
       "    <tr>\n",
       "      <th>1</th>\n",
       "      <td>УКРОП&gt;&gt;&gt;петрушка</td>\n",
       "      <td>49</td>\n",
       "    </tr>\n",
       "    <tr>\n",
       "      <th>2</th>\n",
       "      <td>ОГУРЦЫ ЛУХОВИЦКИЕ&gt;&gt;&gt;арбуз</td>\n",
       "      <td>33</td>\n",
       "    </tr>\n",
       "    <tr>\n",
       "      <th>3</th>\n",
       "      <td>ОГУРЦЫ ЛУХОВИЦКИЕ&gt;&gt;&gt;кабачки</td>\n",
       "      <td>31</td>\n",
       "    </tr>\n",
       "    <tr>\n",
       "      <th>4</th>\n",
       "      <td>УКРОП&gt;&gt;&gt;кинза</td>\n",
       "      <td>36</td>\n",
       "    </tr>\n",
       "  </tbody>\n",
       "</table>\n",
       "</div>"
      ],
      "text/plain": [
       "                          Пара  Процент товара в паре от общего количества\n",
       "0    УКРОП>>>огурцы луховицкие                                          52\n",
       "1             УКРОП>>>петрушка                                          49\n",
       "2    ОГУРЦЫ ЛУХОВИЦКИЕ>>>арбуз                                          33\n",
       "3  ОГУРЦЫ ЛУХОВИЦКИЕ>>>кабачки                                          31\n",
       "4                УКРОП>>>кинза                                          36"
      ]
     },
     "execution_count": 14,
     "metadata": {},
     "output_type": "execute_result"
    }
   ],
   "source": [
    "occurrence_pairs_2.head()"
   ]
  },
  {
   "cell_type": "code",
   "execution_count": 15,
   "metadata": {},
   "outputs": [],
   "source": [
    "# объединим 2 этих массива и отсортируем\n",
    "\n",
    "dolya_pary = (\n",
    "                pd.concat([occurrence_pairs_1,occurrence_pairs_2])\n",
    "                .sort_values('Процент товара в паре от общего количества',ascending=False)\n",
    "             )"
   ]
  },
  {
   "cell_type": "code",
   "execution_count": 16,
   "metadata": {
    "scrolled": true
   },
   "outputs": [
    {
     "data": {
      "text/html": [
       "<div>\n",
       "<style scoped>\n",
       "    .dataframe tbody tr th:only-of-type {\n",
       "        vertical-align: middle;\n",
       "    }\n",
       "\n",
       "    .dataframe tbody tr th {\n",
       "        vertical-align: top;\n",
       "    }\n",
       "\n",
       "    .dataframe thead th {\n",
       "        text-align: right;\n",
       "    }\n",
       "</style>\n",
       "<table border=\"1\" class=\"dataframe\">\n",
       "  <thead>\n",
       "    <tr style=\"text-align: right;\">\n",
       "      <th></th>\n",
       "      <th>Пара</th>\n",
       "      <th>Процент товара в паре от общего количества</th>\n",
       "    </tr>\n",
       "  </thead>\n",
       "  <tbody>\n",
       "    <tr>\n",
       "      <th>1</th>\n",
       "      <td>ПЕТРУШКА&gt;&gt;&gt;укроп</td>\n",
       "      <td>73</td>\n",
       "    </tr>\n",
       "    <tr>\n",
       "      <th>5</th>\n",
       "      <td>ЛУК ЗЕЛЕНЫЙ&gt;&gt;&gt;укроп</td>\n",
       "      <td>64</td>\n",
       "    </tr>\n",
       "    <tr>\n",
       "      <th>4</th>\n",
       "      <td>КИНЗА&gt;&gt;&gt;укроп</td>\n",
       "      <td>62</td>\n",
       "    </tr>\n",
       "    <tr>\n",
       "      <th>0</th>\n",
       "      <td>УКРОП&gt;&gt;&gt;огурцы луховицкие</td>\n",
       "      <td>52</td>\n",
       "    </tr>\n",
       "    <tr>\n",
       "      <th>80</th>\n",
       "      <td>РЕДИС&gt;&gt;&gt;огурцы луховицкие</td>\n",
       "      <td>52</td>\n",
       "    </tr>\n",
       "    <tr>\n",
       "      <th>16</th>\n",
       "      <td>КИНЗА&gt;&gt;&gt;огурцы луховицкие</td>\n",
       "      <td>51</td>\n",
       "    </tr>\n",
       "    <tr>\n",
       "      <th>6</th>\n",
       "      <td>ПЕТРУШКА&gt;&gt;&gt;огурцы луховицкие</td>\n",
       "      <td>51</td>\n",
       "    </tr>\n",
       "    <tr>\n",
       "      <th>13</th>\n",
       "      <td>ПОМИДОРЫ ПАРАДАЙЗ&gt;&gt;&gt;огурцы луховицкие</td>\n",
       "      <td>50</td>\n",
       "    </tr>\n",
       "    <tr>\n",
       "      <th>272</th>\n",
       "      <td>САЛАТ МИКС&gt;&gt;&gt;огурцы луховицкие</td>\n",
       "      <td>50</td>\n",
       "    </tr>\n",
       "    <tr>\n",
       "      <th>3</th>\n",
       "      <td>КАБАЧКИ&gt;&gt;&gt;огурцы луховицкие</td>\n",
       "      <td>49</td>\n",
       "    </tr>\n",
       "    <tr>\n",
       "      <th>1</th>\n",
       "      <td>УКРОП&gt;&gt;&gt;петрушка</td>\n",
       "      <td>49</td>\n",
       "    </tr>\n",
       "    <tr>\n",
       "      <th>197</th>\n",
       "      <td>ТЫКВА МИНДАЛЬНАЯ&gt;&gt;&gt;огурцы луховицкие</td>\n",
       "      <td>49</td>\n",
       "    </tr>\n",
       "    <tr>\n",
       "      <th>100</th>\n",
       "      <td>ЦУККИНИ&gt;&gt;&gt;огурцы луховицкие</td>\n",
       "      <td>48</td>\n",
       "    </tr>\n",
       "    <tr>\n",
       "      <th>8</th>\n",
       "      <td>БАКЛАЖАНЫ ГРУНТОВЫЕ&gt;&gt;&gt;кабачки</td>\n",
       "      <td>48</td>\n",
       "    </tr>\n",
       "    <tr>\n",
       "      <th>153</th>\n",
       "      <td>САЛАТ МОСКОВСКИЙ&gt;&gt;&gt;огурцы луховицкие</td>\n",
       "      <td>47</td>\n",
       "    </tr>\n",
       "    <tr>\n",
       "      <th>7</th>\n",
       "      <td>ЛУК РЕПЧАТЫЙ&gt;&gt;&gt;огурцы луховицкие</td>\n",
       "      <td>47</td>\n",
       "    </tr>\n",
       "    <tr>\n",
       "      <th>97</th>\n",
       "      <td>БАЗИЛИК КРАСНЫЙ&gt;&gt;&gt;укроп</td>\n",
       "      <td>47</td>\n",
       "    </tr>\n",
       "    <tr>\n",
       "      <th>425</th>\n",
       "      <td>ЯБЛОКИ СЕЗОННЫЕ&gt;&gt;&gt;огурцы луховицкие</td>\n",
       "      <td>47</td>\n",
       "    </tr>\n",
       "    <tr>\n",
       "      <th>22</th>\n",
       "      <td>ЛУК ЗЕЛЕНЫЙ&gt;&gt;&gt;огурцы луховицкие</td>\n",
       "      <td>47</td>\n",
       "    </tr>\n",
       "    <tr>\n",
       "      <th>204</th>\n",
       "      <td>ДЫНЯ ГУЛЯБИ&gt;&gt;&gt;арбуз</td>\n",
       "      <td>47</td>\n",
       "    </tr>\n",
       "  </tbody>\n",
       "</table>\n",
       "</div>"
      ],
      "text/plain": [
       "                                      Пара  \\\n",
       "1                         ПЕТРУШКА>>>укроп   \n",
       "5                      ЛУК ЗЕЛЕНЫЙ>>>укроп   \n",
       "4                            КИНЗА>>>укроп   \n",
       "0                УКРОП>>>огурцы луховицкие   \n",
       "80               РЕДИС>>>огурцы луховицкие   \n",
       "16               КИНЗА>>>огурцы луховицкие   \n",
       "6             ПЕТРУШКА>>>огурцы луховицкие   \n",
       "13   ПОМИДОРЫ ПАРАДАЙЗ>>>огурцы луховицкие   \n",
       "272         САЛАТ МИКС>>>огурцы луховицкие   \n",
       "3              КАБАЧКИ>>>огурцы луховицкие   \n",
       "1                         УКРОП>>>петрушка   \n",
       "197   ТЫКВА МИНДАЛЬНАЯ>>>огурцы луховицкие   \n",
       "100            ЦУККИНИ>>>огурцы луховицкие   \n",
       "8            БАКЛАЖАНЫ ГРУНТОВЫЕ>>>кабачки   \n",
       "153   САЛАТ МОСКОВСКИЙ>>>огурцы луховицкие   \n",
       "7         ЛУК РЕПЧАТЫЙ>>>огурцы луховицкие   \n",
       "97                 БАЗИЛИК КРАСНЫЙ>>>укроп   \n",
       "425    ЯБЛОКИ СЕЗОННЫЕ>>>огурцы луховицкие   \n",
       "22         ЛУК ЗЕЛЕНЫЙ>>>огурцы луховицкие   \n",
       "204                    ДЫНЯ ГУЛЯБИ>>>арбуз   \n",
       "\n",
       "     Процент товара в паре от общего количества  \n",
       "1                                            73  \n",
       "5                                            64  \n",
       "4                                            62  \n",
       "0                                            52  \n",
       "80                                           52  \n",
       "16                                           51  \n",
       "6                                            51  \n",
       "13                                           50  \n",
       "272                                          50  \n",
       "3                                            49  \n",
       "1                                            49  \n",
       "197                                          49  \n",
       "100                                          48  \n",
       "8                                            48  \n",
       "153                                          47  \n",
       "7                                            47  \n",
       "97                                           47  \n",
       "425                                          47  \n",
       "22                                           47  \n",
       "204                                          47  "
      ]
     },
     "execution_count": 16,
     "metadata": {},
     "output_type": "execute_result"
    }
   ],
   "source": [
    "# посмотрим на результат\n",
    "dolya_pary.head(20)"
   ]
  },
  {
   "cell_type": "markdown",
   "metadata": {},
   "source": [
    "---\n",
    "Интересно, например, что укроп сопутствует петрушке в покупке почти в 3/4 случаев,\n",
    "а вот петрушка укропу только в половине."
   ]
  }
 ],
 "metadata": {
  "kernelspec": {
   "display_name": "Python 3",
   "language": "python",
   "name": "python3"
  },
  "language_info": {
   "codemirror_mode": {
    "name": "ipython",
    "version": 3
   },
   "file_extension": ".py",
   "mimetype": "text/x-python",
   "name": "python",
   "nbconvert_exporter": "python",
   "pygments_lexer": "ipython3",
   "version": "3.7.3"
  }
 },
 "nbformat": 4,
 "nbformat_minor": 4
}
